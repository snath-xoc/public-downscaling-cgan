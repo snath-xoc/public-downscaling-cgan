{
 "cells": [
  {
   "cell_type": "code",
   "execution_count": 1,
   "id": "4101bd8c-cbf5-4c00-82b3-614ddfa7d74b",
   "metadata": {},
   "outputs": [
    {
     "name": "stdout",
     "output_type": "stream",
     "text": [
      "Traceback (most recent call last):\n",
      "  File \"/home/n/nath/cGAN/shruti/main.py\", line 13, in <module>\n",
      "    import data\n",
      "  File \"/home/n/nath/cGAN/shruti/data.py\", line 9, in <module>\n",
      "    from kerchunk.zarr import ZarrToZarr\n",
      "ModuleNotFoundError: No module named 'kerchunk'\n"
     ]
    }
   ],
   "source": [
    "!python3 main.py --config config.yaml --eval_short --evaluate --plot_ranks"
   ]
  },
  {
   "cell_type": "code",
   "execution_count": null,
   "id": "94ea64f6-0b81-4bd4-bcb3-c13c71dce88b",
   "metadata": {},
   "outputs": [],
   "source": []
  }
 ],
 "metadata": {
  "kernelspec": {
   "display_name": "Python kerchunk",
   "language": "python",
   "name": "kerchunk_2024"
  },
  "language_info": {
   "codemirror_mode": {
    "name": "ipython",
    "version": 3
   },
   "file_extension": ".py",
   "mimetype": "text/x-python",
   "name": "python",
   "nbconvert_exporter": "python",
   "pygments_lexer": "ipython3",
   "version": "3.10.13"
  }
 },
 "nbformat": 4,
 "nbformat_minor": 5
}
