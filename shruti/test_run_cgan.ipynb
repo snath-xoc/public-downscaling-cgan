{
 "cells": [
  {
   "cell_type": "code",
   "execution_count": null,
   "id": "4101bd8c-cbf5-4c00-82b3-614ddfa7d74b",
   "metadata": {},
   "outputs": [
    {
     "name": "stdout",
     "output_type": "stream",
     "text": [
      "2024-04-26 14:31:15.209698: E external/local_xla/xla/stream_executor/cuda/cuda_dnn.cc:9261] Unable to register cuDNN factory: Attempting to register factory for plugin cuDNN when one has already been registered\n",
      "2024-04-26 14:31:15.209742: E external/local_xla/xla/stream_executor/cuda/cuda_fft.cc:607] Unable to register cuFFT factory: Attempting to register factory for plugin cuFFT when one has already been registered\n",
      "2024-04-26 14:31:15.211130: E external/local_xla/xla/stream_executor/cuda/cuda_blas.cc:1515] Unable to register cuBLAS factory: Attempting to register factory for plugin cuBLAS when one has already been registered\n",
      "['/network/group/aopp/predict/TIP022_NATH_GFSAIMOD/cGAN/tfrecords_v2/2021_0.0.tfrecords']\n",
      "<_MapDataset element_spec=({'lo_res_inputs': TensorSpec(shape=(128, 128, 60), dtype=tf.float32, name=None), 'hi_res_inputs': TensorSpec(shape=(128, 128, 2), dtype=tf.float32, name=None)}, {'output': TensorSpec(shape=(128, 128, 1), dtype=tf.float32, name=None)})>\n",
      "['/network/group/aopp/predict/TIP022_NATH_GFSAIMOD/cGAN/tfrecords_v2/2021_0.1.tfrecords']\n",
      "<_MapDataset element_spec=({'lo_res_inputs': TensorSpec(shape=(128, 128, 60), dtype=tf.float32, name=None), 'hi_res_inputs': TensorSpec(shape=(128, 128, 2), dtype=tf.float32, name=None)}, {'output': TensorSpec(shape=(128, 128, 1), dtype=tf.float32, name=None)})>\n",
      "['/network/group/aopp/predict/TIP022_NATH_GFSAIMOD/cGAN/tfrecords_v2/2021_0.2.tfrecords']\n",
      "<_MapDataset element_spec=({'lo_res_inputs': TensorSpec(shape=(128, 128, 60), dtype=tf.float32, name=None), 'hi_res_inputs': TensorSpec(shape=(128, 128, 2), dtype=tf.float32, name=None)}, {'output': TensorSpec(shape=(128, 128, 1), dtype=tf.float32, name=None)})>\n",
      "['/network/group/aopp/predict/TIP022_NATH_GFSAIMOD/cGAN/tfrecords_v2/2021_0.3.tfrecords']\n",
      "<_MapDataset element_spec=({'lo_res_inputs': TensorSpec(shape=(128, 128, 60), dtype=tf.float32, name=None), 'hi_res_inputs': TensorSpec(shape=(128, 128, 2), dtype=tf.float32, name=None)}, {'output': TensorSpec(shape=(128, 128, 1), dtype=tf.float32, name=None)})>\n",
      "<_PrefetchDataset element_spec=({'lo_res_inputs': TensorSpec(shape=(None, 128, 128, 60), dtype=tf.float32, name=None), 'hi_res_inputs': TensorSpec(shape=(None, 128, 128, 2), dtype=tf.float32, name=None)}, {'output': TensorSpec(shape=(None, 128, 128, 1), dtype=tf.float32, name=None)})>\n",
      "<_PrefetchDataset element_spec=({'lo_res_inputs': TensorSpec(shape=(None, 128, 128, 60), dtype=tf.float32, name=None), 'hi_res_inputs': TensorSpec(shape=(None, 128, 128, 2), dtype=tf.float32, name=None)}, {'output': TensorSpec(shape=(None, 128, 128, 1), dtype=tf.float32, name=None)})>\n",
      "Checkpoint 1/25\n",
      "1074/6400 [====>.........................] - ETA: 55:42:05 - D0: -10.7364 - D1: 188.3623 - D2: -201.8110 - D3: 0.2712 - G0: 787.6120 - G1: 199.2880 - G2: 0.5883"
     ]
    }
   ],
   "source": [
    "!python3 main.py --config config.yaml --eval_short --evaluate --plot_ranks"
   ]
  },
  {
   "cell_type": "code",
   "execution_count": null,
   "id": "94ea64f6-0b81-4bd4-bcb3-c13c71dce88b",
   "metadata": {},
   "outputs": [],
   "source": []
  }
 ],
 "metadata": {
  "kernelspec": {
   "display_name": "Python kerchunk",
   "language": "python",
   "name": "kerchunk_2024"
  },
  "language_info": {
   "codemirror_mode": {
    "name": "ipython",
    "version": 3
   },
   "file_extension": ".py",
   "mimetype": "text/x-python",
   "name": "python",
   "nbconvert_exporter": "python",
   "pygments_lexer": "ipython3",
   "version": "3.10.13"
  }
 },
 "nbformat": 4,
 "nbformat_minor": 5
}
