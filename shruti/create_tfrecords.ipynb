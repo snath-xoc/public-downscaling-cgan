{
 "cells": [
  {
   "cell_type": "code",
   "execution_count": null,
   "id": "e3ac63dc-29fd-4632-8112-5e2f96284d65",
   "metadata": {},
   "outputs": [
    {
     "name": "stdout",
     "output_type": "stream",
     "text": [
      "Samples per image: 8\n",
      "Doing time index 0\n"
     ]
    },
    {
     "name": "stderr",
     "output_type": "stream",
     "text": [
      "  0%|                                                                                 | 0/304 [00:00<?, ?it/s]"
     ]
    },
    {
     "name": "stdout",
     "output_type": "stream",
     "text": [
      "0 0\n"
     ]
    },
    {
     "name": "stderr",
     "output_type": "stream",
     "text": [
      "  3%|██▎                                                                   | 10/304 [24:33<7:44:35, 94.81s/it]"
     ]
    },
    {
     "name": "stdout",
     "output_type": "stream",
     "text": [
      "0 10\n"
     ]
    },
    {
     "name": "stderr",
     "output_type": "stream",
     "text": [
      "  7%|████▌                                                                 | 20/304 [39:06<6:51:49, 87.01s/it]"
     ]
    },
    {
     "name": "stdout",
     "output_type": "stream",
     "text": [
      "0 20\n"
     ]
    },
    {
     "name": "stderr",
     "output_type": "stream",
     "text": [
      " 10%|██████▉                                                               | 30/304 [54:03<6:59:00, 91.76s/it]"
     ]
    },
    {
     "name": "stdout",
     "output_type": "stream",
     "text": [
      "0 30\n"
     ]
    },
    {
     "name": "stderr",
     "output_type": "stream",
     "text": [
      " 13%|████████▋                                                         | 40/304 [1:24:52<13:51:42, 189.03s/it]"
     ]
    },
    {
     "name": "stdout",
     "output_type": "stream",
     "text": [
      "0 40\n"
     ]
    },
    {
     "name": "stderr",
     "output_type": "stream",
     "text": [
      " 16%|██████████▊                                                       | 50/304 [2:07:20<29:36:15, 419.59s/it]"
     ]
    },
    {
     "name": "stdout",
     "output_type": "stream",
     "text": [
      "0 50\n"
     ]
    },
    {
     "name": "stderr",
     "output_type": "stream",
     "text": [
      " 20%|█████████████▏                                                     | 60/304 [2:23:23<7:13:16, 106.54s/it]"
     ]
    },
    {
     "name": "stdout",
     "output_type": "stream",
     "text": [
      "0 60\n"
     ]
    },
    {
     "name": "stderr",
     "output_type": "stream",
     "text": [
      " 23%|███████████████▋                                                    | 70/304 [2:38:49<5:54:01, 90.77s/it]"
     ]
    },
    {
     "name": "stdout",
     "output_type": "stream",
     "text": [
      "0 70\n"
     ]
    },
    {
     "name": "stderr",
     "output_type": "stream",
     "text": [
      " 26%|█████████████████▉                                                  | 80/304 [2:54:09<5:42:26, 91.72s/it]"
     ]
    },
    {
     "name": "stdout",
     "output_type": "stream",
     "text": [
      "0 80\n"
     ]
    },
    {
     "name": "stderr",
     "output_type": "stream",
     "text": [
      " 30%|████████████████████▏                                               | 90/304 [3:08:54<5:15:10, 88.37s/it]"
     ]
    },
    {
     "name": "stdout",
     "output_type": "stream",
     "text": [
      "0 90\n"
     ]
    },
    {
     "name": "stderr",
     "output_type": "stream",
     "text": [
      " 33%|██████████████████████                                             | 100/304 [3:24:00<5:12:20, 91.87s/it]"
     ]
    },
    {
     "name": "stdout",
     "output_type": "stream",
     "text": [
      "0 100\n"
     ]
    },
    {
     "name": "stderr",
     "output_type": "stream",
     "text": [
      " 36%|████████████████████████▏                                          | 110/304 [3:39:12<4:53:56, 90.91s/it]"
     ]
    },
    {
     "name": "stdout",
     "output_type": "stream",
     "text": [
      "0 110\n"
     ]
    },
    {
     "name": "stderr",
     "output_type": "stream",
     "text": [
      " 37%|████████████████████████▋                                          | 112/304 [3:42:20<4:56:23, 92.62s/it]"
     ]
    }
   ],
   "source": [
    "import data\n",
    "import tfrecords_generator\n",
    "import importlib\n",
    "importlib.reload(data)\n",
    "importlib.reload(tfrecords_generator)\n",
    "\n",
    "from tfrecords_generator import write_data\n",
    "from data import gen_fcst_norm \n",
    "from memory_profiler import memory_usage\n",
    "import numpy as np\n",
    "\n",
    "import warnings\n",
    "warnings.filterwarnings('ignore')\n",
    "\n",
    "years = [2021]\n",
    "interval = 0.1\n",
    "\n",
    "#mem = memory_usage((gen_fcst_norm, (year,)), interval=interval)\n",
    "#time = np.arange(len(mem)) * interval\n",
    "#mem_file = \"log_memory_generating_norm.dat\"\n",
    "\n",
    "#np.savetxt(mem_file, np.array((time, mem)).T)\n",
    "\n",
    "for year in years:\n",
    "    mem = memory_usage((write_data, (year,)), interval=interval)\n",
    "    time = np.arange(len(mem)) * interval\n",
    "    mem_file = \"/network/group/aopp/predict/TIP022_NATH_GFSAIMOD/cGAN/tfrecords/log_memory_writing_data_%s.dat\"%year\n",
    "\n",
    "    np.savetxt(mem_file, np.array((time, mem)).T)\n"
   ]
  },
  {
   "cell_type": "code",
   "execution_count": 15,
   "id": "078559b2-c601-45c2-aa42-f7967f0a67d9",
   "metadata": {},
   "outputs": [
    {
     "data": {
      "text/plain": [
       "{'min': 0.0,\n",
       " 'max': 5060.9165,\n",
       " 'mean': 353.36827374192967,\n",
       " 'std': 576.8885141782403}"
      ]
     },
     "execution_count": 15,
     "metadata": {},
     "output_type": "execute_result"
    }
   ],
   "source": [
    "import pickle\n",
    "\n",
    "with open(f'/network/home/n/nath/cGAN/constants-regICPAC/FCSTNorm2021.pkl', 'rb') as f:\n",
    "    norm = pickle.load(f)\n",
    "\n",
    "norm['Convective available potential energy']\n",
    "    "
   ]
  },
  {
   "cell_type": "code",
   "execution_count": 5,
   "id": "4be92636-a7ee-4505-8509-89217dea958a",
   "metadata": {},
   "outputs": [
    {
     "name": "stdout",
     "output_type": "stream",
     "text": [
      "['/network/group/aopp/predict/TIP018_HARRIS_TENSORFL/IMERG-regICPAC-6hr/20210402_00.nc4', '/network/group/aopp/predict/TIP018_HARRIS_TENSORFL/IMERG-regICPAC-6hr/20210402_06.nc4', '/network/group/aopp/predict/TIP018_HARRIS_TENSORFL/IMERG-regICPAC-6hr/20210402_12.nc4', '/network/group/aopp/predict/TIP018_HARRIS_TENSORFL/IMERG-regICPAC-6hr/20210402_18.nc4']\n"
     ]
    }
   ],
   "source": [
    "import data\n",
    "import importlib\n",
    "importlib.reload(data)\n",
    "from data import load_truth_and_mask\n",
    "\n",
    "truth, mask = np.mean(np.stack(([load_truth_and_mask(str(date).replace('-',''), 0) for date in np.arange('2021-04-01', '2021-04-02', np.timedelta64(1,'D'), dtype='datetime64')])),axis=0)\n",
    "\n",
    "\n"
   ]
  },
  {
   "cell_type": "code",
   "execution_count": 17,
   "id": "225018b0-b5ab-4e92-9942-5b6dde134fb4",
   "metadata": {},
   "outputs": [],
   "source": [
    "import glob\n",
    "import xarray as xr\n",
    "\n",
    "TRUTH_PATH = '/network/group/aopp/predict/TIP018_HARRIS_TENSORFL/IMERG-regICPAC-6hr/'\n",
    "data_path = glob.glob(TRUTH_PATH+\"*.nc4\")\n",
    "\n",
    "ds = xr.open_mfdataset(data_path[0])\n",
    "#print(ds)\n",
    "\n",
    "lat_reg_IMERG = ds.lat.values\n",
    "lon_reg_IMERG = ds.lon.values\n"
   ]
  },
  {
   "cell_type": "code",
   "execution_count": 78,
   "id": "16e8afe6-08e8-4038-894d-6d919b2a6c1c",
   "metadata": {},
   "outputs": [
    {
     "data": {
      "text/plain": [
       "<matplotlib.colorbar.Colorbar at 0x7f91d19cb910>"
      ]
     },
     "execution_count": 78,
     "metadata": {},
     "output_type": "execute_result"
    },
    {
     "data": {
      "image/png": "[encoded data removed]",
      "text/plain": [
       "<Figure size 640x480 with 2 Axes>"
      ]
     },
     "metadata": {},
     "output_type": "display_data"
    }
   ],
   "source": [
    "import matplotlib.pyplot as plt\n",
    "import cartopy.crs as ccrs\n",
    "\n",
    "ax = plt.axes(projection = ccrs.PlateCarree())\n",
    "\n",
    "mesh = ax.pcolormesh(lon_reg_IMERG, lat_reg_IMERG, np.squeeze(elev)[:,:,1], cmap='Blues')\n",
    "plt.colorbar(mesh)"
   ]
  },
  {
   "cell_type": "code",
   "execution_count": 75,
   "id": "51b7f6c7-2977-4818-8787-dca69b9c2bca",
   "metadata": {},
   "outputs": [],
   "source": [
    "from data import load_hires_constants\n",
    "\n",
    "elev = load_hires_constants(batch_size=1)"
   ]
  },
  {
   "cell_type": "code",
   "execution_count": 76,
   "id": "afc18227-3eff-4a94-bcac-47bc5a1cfffc",
   "metadata": {},
   "outputs": [
    {
     "data": {
      "text/plain": [
       "(1, 384, 352, 2)"
      ]
     },
     "execution_count": 76,
     "metadata": {},
     "output_type": "execute_result"
    }
   ],
   "source": [
    "elev.shape"
   ]
  },
  {
   "cell_type": "code",
   "execution_count": 58,
   "id": "1bec0768-88b2-490c-b4b3-d6de240632f0",
   "metadata": {},
   "outputs": [
    {
     "ename": "RuntimeError",
     "evalue": "Forecast normalisation dictionary has not been loaded",
     "output_type": "error",
     "traceback": [
      "\u001b[0;31m---------------------------------------------------------------------------\u001b[0m",
      "\u001b[0;31mRuntimeError\u001b[0m                              Traceback (most recent call last)",
      "Cell \u001b[0;32mIn[58], line 14\u001b[0m\n\u001b[1;32m      2\u001b[0m \u001b[38;5;28;01mfrom\u001b[39;00m \u001b[38;5;21;01mdata\u001b[39;00m \u001b[38;5;28;01mimport\u001b[39;00m all_fcst_fields\n\u001b[1;32m      4\u001b[0m dgc \u001b[38;5;241m=\u001b[39m DataGenerator([\u001b[38;5;124m'\u001b[39m\u001b[38;5;124m20210301\u001b[39m\u001b[38;5;124m'\u001b[39m,\u001b[38;5;124m'\u001b[39m\u001b[38;5;124m20210302\u001b[39m\u001b[38;5;124m'\u001b[39m,\u001b[38;5;124m'\u001b[39m\u001b[38;5;124m20210303\u001b[39m\u001b[38;5;124m'\u001b[39m],\n\u001b[1;32m      5\u001b[0m                        fcst_fields\u001b[38;5;241m=\u001b[39mall_fcst_fields,\n\u001b[1;32m      6\u001b[0m                                 start_hour\u001b[38;5;241m=\u001b[39m\u001b[38;5;241m0\u001b[39m,\n\u001b[0;32m   (...)\u001b[0m\n\u001b[1;32m     11\u001b[0m                                 constants\u001b[38;5;241m=\u001b[39m\u001b[38;5;28;01mTrue\u001b[39;00m,\n\u001b[1;32m     12\u001b[0m                                 fcst_norm\u001b[38;5;241m=\u001b[39m\u001b[38;5;28;01mTrue\u001b[39;00m)\n\u001b[0;32m---> 14\u001b[0m sample \u001b[38;5;241m=\u001b[39m \u001b[43mdgc\u001b[49m\u001b[38;5;241;43m.\u001b[39;49m\u001b[38;5;21;43m__getitem__\u001b[39;49m\u001b[43m(\u001b[49m\u001b[38;5;241;43m0\u001b[39;49m\u001b[43m)\u001b[49m\n",
      "File \u001b[0;32m~/cGAN/shruti/data_generator.py:97\u001b[0m, in \u001b[0;36mDataGenerator.__getitem__\u001b[0;34m(self, idx)\u001b[0m\n\u001b[1;32m     94\u001b[0m time_idx_batch \u001b[38;5;241m=\u001b[39m [\u001b[38;5;241m0\u001b[39m,\u001b[38;5;241m1\u001b[39m]\u001b[38;5;66;03m#self.time_idxs[idx*self.batch_size:(idx+1)*self.batch_size]\u001b[39;00m\n\u001b[1;32m     96\u001b[0m \u001b[38;5;66;03m# Load and return this batch of data\u001b[39;00m\n\u001b[0;32m---> 97\u001b[0m data_x_batch, data_y_batch, data_mask_batch \u001b[38;5;241m=\u001b[39m \u001b[43mload_fcst_truth_batch\u001b[49m\u001b[43m(\u001b[49m\n\u001b[1;32m     98\u001b[0m \u001b[43m    \u001b[49m\u001b[43mdates_batch\u001b[49m\u001b[43m,\u001b[49m\n\u001b[1;32m     99\u001b[0m \u001b[43m    \u001b[49m\u001b[43mtime_idx_batch\u001b[49m\u001b[43m,\u001b[49m\n\u001b[1;32m    100\u001b[0m \u001b[43m    \u001b[49m\u001b[43mfcst_fields\u001b[49m\u001b[38;5;241;43m=\u001b[39;49m\u001b[38;5;28;43mself\u001b[39;49m\u001b[38;5;241;43m.\u001b[39;49m\u001b[43mfcst_fields\u001b[49m\u001b[43m,\u001b[49m\n\u001b[1;32m    101\u001b[0m \u001b[43m    \u001b[49m\u001b[43mlog_precip\u001b[49m\u001b[38;5;241;43m=\u001b[39;49m\u001b[38;5;28;43mself\u001b[39;49m\u001b[38;5;241;43m.\u001b[39;49m\u001b[43mlog_precip\u001b[49m\u001b[43m,\u001b[49m\n\u001b[1;32m    102\u001b[0m \u001b[43m    \u001b[49m\u001b[43mnorm\u001b[49m\u001b[38;5;241;43m=\u001b[39;49m\u001b[38;5;28;43mself\u001b[39;49m\u001b[38;5;241;43m.\u001b[39;49m\u001b[43mfcst_norm\u001b[49m\u001b[43m)\u001b[49m \u001b[38;5;66;03m## note time_idx_batch is anyways redundant now in load_fcst_truth_batch\u001b[39;00m\n\u001b[1;32m    104\u001b[0m \u001b[38;5;28;01mif\u001b[39;00m \u001b[38;5;28mself\u001b[39m\u001b[38;5;241m.\u001b[39mautocoarsen:\n\u001b[1;32m    105\u001b[0m     \u001b[38;5;66;03m# replace forecast data by coarsened truth data!\u001b[39;00m\n\u001b[1;32m    106\u001b[0m     truth_temp \u001b[38;5;241m=\u001b[39m data_y_batch\u001b[38;5;241m.\u001b[39mcopy()\n",
      "File \u001b[0;32m~/cGAN/shruti/data.py:278\u001b[0m, in \u001b[0;36mload_fcst_truth_batch\u001b[0;34m(dates_batch, time_idx_batch, fcst_fields, log_precip, norm)\u001b[0m\n\u001b[1;32m    275\u001b[0m batch_mask \u001b[38;5;241m=\u001b[39m []  \u001b[38;5;66;03m# mask\u001b[39;00m\n\u001b[1;32m    277\u001b[0m \u001b[38;5;28;01mfor\u001b[39;00m time_idx, date \u001b[38;5;129;01min\u001b[39;00m \u001b[38;5;28mzip\u001b[39m(time_idx_batch, dates_batch):\n\u001b[0;32m--> 278\u001b[0m     batch_x\u001b[38;5;241m.\u001b[39mappend(\u001b[43mload_fcst_stack\u001b[49m\u001b[43m(\u001b[49m\u001b[43mfcst_fields\u001b[49m\u001b[43m,\u001b[49m\u001b[43m \u001b[49m\u001b[43mdate\u001b[49m\u001b[43m,\u001b[49m\u001b[43m \u001b[49m\u001b[43mtime_idx\u001b[49m\u001b[43m,\u001b[49m\u001b[43m \u001b[49m\u001b[43mlog_precip\u001b[49m\u001b[38;5;241;43m=\u001b[39;49m\u001b[43mlog_precip\u001b[49m\u001b[43m,\u001b[49m\u001b[43m \u001b[49m\u001b[43mnorm\u001b[49m\u001b[38;5;241;43m=\u001b[39;49m\u001b[43mnorm\u001b[49m\u001b[43m)\u001b[49m)\n\u001b[1;32m    279\u001b[0m     truth, mask \u001b[38;5;241m=\u001b[39m load_truth_and_mask(date, time_idx, log_precip\u001b[38;5;241m=\u001b[39mlog_precip)\n\u001b[1;32m    280\u001b[0m     batch_y\u001b[38;5;241m.\u001b[39mappend(truth)\n",
      "File \u001b[0;32m~/cGAN/shruti/data.py:451\u001b[0m, in \u001b[0;36mload_fcst_stack\u001b[0;34m(fields, date, time_idx, log_precip, norm)\u001b[0m\n\u001b[1;32m    448\u001b[0m field_arrays \u001b[38;5;241m=\u001b[39m []\n\u001b[1;32m    449\u001b[0m \u001b[38;5;28;01mfor\u001b[39;00m f \u001b[38;5;129;01min\u001b[39;00m fields:\n\u001b[1;32m    450\u001b[0m     \u001b[38;5;66;03m#print(f)\u001b[39;00m\n\u001b[0;32m--> 451\u001b[0m     field_arrays\u001b[38;5;241m.\u001b[39mappend(\u001b[43mload_fcst\u001b[49m\u001b[43m(\u001b[49m\u001b[43mf\u001b[49m\u001b[43m,\u001b[49m\u001b[43m \u001b[49m\u001b[43mdate\u001b[49m\u001b[43m,\u001b[49m\u001b[43m \u001b[49m\u001b[43mtime_idx\u001b[49m\u001b[43m,\u001b[49m\u001b[43m \u001b[49m\u001b[43mlog_precip\u001b[49m\u001b[38;5;241;43m=\u001b[39;49m\u001b[43mlog_precip\u001b[49m\u001b[43m,\u001b[49m\u001b[43m \u001b[49m\u001b[43mnorm\u001b[49m\u001b[38;5;241;43m=\u001b[39;49m\u001b[43mnorm\u001b[49m\u001b[43m)\u001b[49m)\n\u001b[1;32m    452\u001b[0m \u001b[38;5;28;01mreturn\u001b[39;00m np\u001b[38;5;241m.\u001b[39mconcatenate(field_arrays, axis\u001b[38;5;241m=\u001b[39m\u001b[38;5;241m-\u001b[39m\u001b[38;5;241m1\u001b[39m)\n",
      "File \u001b[0;32m~/cGAN/shruti/data.py:395\u001b[0m, in \u001b[0;36mload_fcst\u001b[0;34m(field, date, time_idx, log_precip, norm)\u001b[0m\n\u001b[1;32m    391\u001b[0m \u001b[38;5;28;01melif\u001b[39;00m norm:\n\u001b[1;32m    392\u001b[0m     \u001b[38;5;66;03m# apply transformation to make fields O(1), based on historical\u001b[39;00m\n\u001b[1;32m    393\u001b[0m     \u001b[38;5;66;03m# forecast data from one of the training years\u001b[39;00m\n\u001b[1;32m    394\u001b[0m     \u001b[38;5;28;01mif\u001b[39;00m fcst_norm \u001b[38;5;129;01mis\u001b[39;00m \u001b[38;5;28;01mNone\u001b[39;00m:\n\u001b[0;32m--> 395\u001b[0m         \u001b[38;5;28;01mraise\u001b[39;00m \u001b[38;5;167;01mRuntimeError\u001b[39;00m(\u001b[38;5;124m\"\u001b[39m\u001b[38;5;124mForecast normalisation dictionary has not been loaded\u001b[39m\u001b[38;5;124m\"\u001b[39m)\n\u001b[1;32m    396\u001b[0m     \u001b[38;5;28;01mif\u001b[39;00m field \u001b[38;5;129;01min\u001b[39;00m [\u001b[38;5;124m\"\u001b[39m\u001b[38;5;124mMedium cloud cover\u001b[39m\u001b[38;5;124m\"\u001b[39m]:\n\u001b[1;32m    397\u001b[0m         \u001b[38;5;66;03m# already 0-1\u001b[39;00m\n\u001b[1;32m    399\u001b[0m         data \u001b[38;5;241m=\u001b[39m np\u001b[38;5;241m.\u001b[39mmoveaxis(regridder(np\u001b[38;5;241m.\u001b[39mmoveaxis(data,\u001b[38;5;241m-\u001b[39m\u001b[38;5;241m1\u001b[39m,\u001b[38;5;241m0\u001b[39m)),\u001b[38;5;241m0\u001b[39m,\u001b[38;5;241m-\u001b[39m\u001b[38;5;241m1\u001b[39m)\n",
      "\u001b[0;31mRuntimeError\u001b[0m: Forecast normalisation dictionary has not been loaded"
     ]
    }
   ],
   "source": [
    "from data_generator import DataGenerator\n",
    "from data import all_fcst_fields\n",
    "\n",
    "dgc = DataGenerator(['20210301','20210302','20210303'],\n",
    "                       fcst_fields=all_fcst_fields,\n",
    "                                start_hour=0,\n",
    "                                end_hour=24,\n",
    "                                batch_size=1,\n",
    "                                log_precip=True,\n",
    "                                shuffle=False,\n",
    "                                constants=True,\n",
    "                                fcst_norm=True)\n",
    "\n",
    "sample = dgc.__getitem__(0)\n",
    "\n"
   ]
  },
  {
   "cell_type": "code",
   "execution_count": 14,
   "id": "37ae8739-9d7a-4bcb-9f0d-f9bc53fcf1c6",
   "metadata": {},
   "outputs": [
    {
     "data": {
      "text/plain": [
       "(1, 384, 352, 60)"
      ]
     },
     "execution_count": 14,
     "metadata": {},
     "output_type": "execute_result"
    }
   ],
   "source": [
    "sample[0]['lo_res_inputs'].shape"
   ]
  },
  {
   "cell_type": "code",
   "execution_count": 50,
   "id": "81467467-a749-4081-8054-62f5cb29f27a",
   "metadata": {},
   "outputs": [
    {
     "data": {
      "text/plain": [
       "<matplotlib.colorbar.Colorbar at 0x7f5f5dc504f0>"
      ]
     },
     "execution_count": 50,
     "metadata": {},
     "output_type": "execute_result"
    },
    {
     "data": {
      "image/png": "[encoded data removed]",
      "text/plain": [
       "<Figure size 640x480 with 2 Axes>"
      ]
     },
     "metadata": {},
     "output_type": "display_data"
    }
   ],
   "source": [
    "import matplotlib.pyplot as plt\n",
    "import cartopy.crs as ccrs\n",
    "import numpy as np\n",
    "\n",
    "ax = plt.axes(projection = ccrs.PlateCarree())\n",
    "\n",
    "mesh = ax.pcolormesh(lon_reg_IMERG, lat_reg_IMERG, np.squeeze(sample[1]['mask']), cmap='Blues')\n",
    "plt.colorbar(mesh)"
   ]
  },
  {
   "cell_type": "code",
   "execution_count": 51,
   "id": "433b97d5-36f7-4f80-a4d7-3bca5ff69ae4",
   "metadata": {},
   "outputs": [
    {
     "data": {
      "text/plain": [
       "array([[False, False, False, ..., False, False, False],\n",
       "       [False, False, False, ..., False, False, False],\n",
       "       [False, False, False, ..., False, False, False],\n",
       "       ...,\n",
       "       [False, False, False, ..., False, False, False],\n",
       "       [False, False, False, ..., False, False, False],\n",
       "       [False, False, False, ..., False, False, False]])"
      ]
     },
     "execution_count": 51,
     "metadata": {},
     "output_type": "execute_result"
    }
   ],
   "source": [
    "np.squeeze(sample[1]['mask'])"
   ]
  }
 ],
 "metadata": {
  "kernelspec": {
   "display_name": "Python kerchunk",
   "language": "python",
   "name": "kerchunk_2024"
  },
  "language_info": {
   "codemirror_mode": {
    "name": "ipython",
    "version": 3
   },
   "file_extension": ".py",
   "mimetype": "text/x-python",
   "name": "python",
   "nbconvert_exporter": "python",
   "pygments_lexer": "ipython3",
   "version": "3.10.13"
  }
 },
 "nbformat": 4,
 "nbformat_minor": 5
}
